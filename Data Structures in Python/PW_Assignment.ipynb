{
 "cells": [
  {
   "cell_type": "markdown",
   "id": "3b54e565-69ad-463c-9b0b-cd28c93f302e",
   "metadata": {},
   "source": [
    "## Q1) Write a code to reverse a string"
   ]
  },
  {
   "cell_type": "code",
   "execution_count": 26,
   "id": "40654774-548f-484f-81ee-1e5e1c1d240c",
   "metadata": {},
   "outputs": [
    {
     "name": "stdin",
     "output_type": "stream",
     "text": [
      "Enter any String to reverse: Mera Naam Kabira...\n"
     ]
    },
    {
     "name": "stdout",
     "output_type": "stream",
     "text": [
      "Given String is:Mera Naam Kabira...\n",
      "The Reversd string is :...aribaK maaN areM\n"
     ]
    }
   ],
   "source": [
    "str=input(\"Enter any String to reverse:\")\n",
    "print(f\"Given String is:{str}\")\n",
    "print(f\"The Reversd string is :{str[::-1]}\")"
   ]
  },
  {
   "cell_type": "markdown",
   "id": "98a907d3-907d-453a-b6e0-b49fbf19728a",
   "metadata": {},
   "source": [
    "## Q2) Write a code to count the number of vowels in a string"
   ]
  },
  {
   "cell_type": "code",
   "execution_count": 35,
   "id": "31fefbf9-bae3-414b-b471-dfc0841c0cdd",
   "metadata": {},
   "outputs": [
    {
     "name": "stdin",
     "output_type": "stream",
     "text": [
      "Enter any String to count vowels: Ram is a good Boy. hai ki nahi??\n"
     ]
    },
    {
     "name": "stdout",
     "output_type": "stream",
     "text": [
      "Number of vowels in the given String : 11\n"
     ]
    }
   ],
   "source": [
    "str1=input(\"Enter any String to count vowels:\")\n",
    "count=0\n",
    "for i in str1:\n",
    "    if i=='a' or i=='e' or i == 'i' or i == 'o' or i == 'u' or i=='A' or i=='E' or i == 'I' or i == 'O' or i == 'U':\n",
    "        count+=1\n",
    "    else :\n",
    "        count+=0\n",
    "print(f\"Number of vowels in the given String : {count}\")"
   ]
  },
  {
   "cell_type": "markdown",
   "id": "c806fa58-9a26-4872-bd47-58e1e8c48b69",
   "metadata": {},
   "source": [
    "## Q3) Write a code to check if a given string is a palindrome or not"
   ]
  },
  {
   "cell_type": "code",
   "execution_count": 38,
   "id": "c591c8aa-5023-48bb-a1f1-f75923234cad",
   "metadata": {},
   "outputs": [
    {
     "name": "stdin",
     "output_type": "stream",
     "text": [
      "Enter any Number: 12321\n"
     ]
    },
    {
     "name": "stdout",
     "output_type": "stream",
     "text": [
      "Given Number is a Palindrome:12321\n"
     ]
    }
   ],
   "source": [
    "num = input(\"Enter any Number:\")\n",
    "reversed_num=num[::-1]\n",
    "if num==reversed_num:\n",
    "    print(f\"Given Number is a Palindrome:{num}\")\n",
    "else:\n",
    "    print(f\"Given Number is not a Palindrome:{num}\")"
   ]
  },
  {
   "cell_type": "markdown",
   "id": "66e893f2-084f-47bb-bc00-fd3be7d7b7a5",
   "metadata": {},
   "source": [
    "## Q4) Write a code to check if two given strings are anagrams of each other"
   ]
  },
  {
   "cell_type": "code",
   "execution_count": 50,
   "id": "bf988cdf-cf7c-4da3-89af-8a3f9704c337",
   "metadata": {},
   "outputs": [
    {
     "name": "stdin",
     "output_type": "stream",
     "text": [
      "Enter any String1: Dog\n",
      "Enter any String2: God\n"
     ]
    },
    {
     "name": "stdout",
     "output_type": "stream",
     "text": [
      "Given strings are Anagrams\n"
     ]
    }
   ],
   "source": [
    "str1=input(\"Enter any String1:\")\n",
    "str2=input(\"Enter any String2:\")\n",
    "str1 = str1.replace(\" \", \"\").lower()\n",
    "str2 = str2.replace(\" \", \"\").lower()\n",
    "if sorted(str1) == sorted(str2):\n",
    "    print(f\"Given strings are Anagrams\")\n",
    "else:\n",
    "    print(f\"Given strings are not Anagrams\")"
   ]
  },
  {
   "cell_type": "markdown",
   "id": "fb697eff-c88b-4c55-848a-99d3ccde415f",
   "metadata": {},
   "source": [
    "## Q5) Write a code to find all occurrences of a given substring within another string"
   ]
  },
  {
   "cell_type": "code",
   "execution_count": 47,
   "id": "d8dc55a5-7c8a-4826-bb08-fd989f27fb13",
   "metadata": {},
   "outputs": [
    {
     "name": "stdin",
     "output_type": "stream",
     "text": [
      "Enter any String: Ram was a great king\n",
      "Enter any Sub string: as\n"
     ]
    },
    {
     "name": "stdout",
     "output_type": "stream",
     "text": [
      "True : Sub String  is present in  Main String\n"
     ]
    }
   ],
   "source": [
    "str=input(\"Enter any String:\")\n",
    "sub_str=input(\"Enter any Sub string:\")\n",
    "if sub_str in str:\n",
    "    print(True, f\": Sub String  is present in  Main String\")\n",
    "else:\n",
    "    print(False, f\": Sub String is not present in  Main String\")"
   ]
  },
  {
   "cell_type": "markdown",
   "id": "b77724a2-a53d-4a9e-a2fa-dda4c86fe395",
   "metadata": {},
   "source": [
    "## Q6) Write a code to perform basic string compression using the counts of repeated characters"
   ]
  },
  {
   "cell_type": "code",
   "execution_count": 56,
   "id": "afbbc188-951c-45aa-a469-65bf866ba807",
   "metadata": {},
   "outputs": [
    {
     "name": "stdin",
     "output_type": "stream",
     "text": [
      "Enter any string:  My name is Karan Singh and pursuing B.tech from IIT Madras.\n"
     ]
    },
    {
     "name": "stdout",
     "output_type": "stream",
     "text": [
      "Compressed String is like this:My nameisKrSghdpuB.tcfoIT\n"
     ]
    }
   ],
   "source": [
    "string = input(\"Enter any string: \")\n",
    "compressed_str = \"\"\n",
    "\n",
    "for char in string:\n",
    "    if char not in compressed_str:\n",
    "        compressed_str += char\n",
    "\n",
    "print(f\"Compressed String is like this:{compressed_str}\")"
   ]
  },
  {
   "cell_type": "markdown",
   "id": "0e71746e-6db5-4709-b6f3-6651f6160b6c",
   "metadata": {},
   "source": [
    "## Q7) Write a code to determine if a string has all unique characters"
   ]
  },
  {
   "cell_type": "code",
   "execution_count": 62,
   "id": "df686e7b-088a-46b7-9510-b5a1ec8f758c",
   "metadata": {},
   "outputs": [
    {
     "name": "stdin",
     "output_type": "stream",
     "text": [
      "Enter any string:  Ishan Dev\n"
     ]
    },
    {
     "name": "stdout",
     "output_type": "stream",
     "text": [
      "String has all unique Characters:Ishan Dev\n"
     ]
    }
   ],
   "source": [
    "str1 = input(\"Enter any string: \")\n",
    "polished_str = \"\"\n",
    "\n",
    "for char in str1:\n",
    "    if char not in polished_str:\n",
    "        polished_str += char\n",
    "        \n",
    "if polished_str==str1:\n",
    "    print(f\"String has all unique Characters:{str1}\")\n",
    "else:\n",
    "    print(f\"String Does not have all unique Characters:{str1}\")"
   ]
  },
  {
   "cell_type": "markdown",
   "id": "a090e19a-3e3c-4dc1-ad2e-1d09bc750cfa",
   "metadata": {},
   "source": [
    "## Q8) Write a code to convert a given string to uppercase or lowercase"
   ]
  },
  {
   "cell_type": "code",
   "execution_count": 64,
   "id": "83cb0d00-2f54-47bb-817e-ace17aaa2069",
   "metadata": {},
   "outputs": [
    {
     "name": "stdin",
     "output_type": "stream",
     "text": [
      "Enter any string:  My name is Karan Singh.\n"
     ]
    },
    {
     "name": "stdout",
     "output_type": "stream",
     "text": [
      "String in Upper Case :MY NAME IS KARAN SINGH.\n",
      "String in Lower Case :my name is karan singh.\n"
     ]
    }
   ],
   "source": [
    "string = input(\"Enter any string: \")\n",
    "print(f\"String in Upper Case :{string.upper()}\")\n",
    "print(f\"String in Lower Case :{string.lower()}\")"
   ]
  },
  {
   "cell_type": "markdown",
   "id": "6c1f33aa-b1be-4d33-8181-68810e3646df",
   "metadata": {},
   "source": [
    "## Q9) Write a code to count the number of words in a string"
   ]
  },
  {
   "cell_type": "code",
   "execution_count": 70,
   "id": "9b301dc6-5a49-49ae-8f4d-9410473fd6e8",
   "metadata": {},
   "outputs": [
    {
     "name": "stdin",
     "output_type": "stream",
     "text": [
      "Enter any string:   ambani is very rich person in whole INDIA.\n"
     ]
    },
    {
     "name": "stdout",
     "output_type": "stream",
     "text": [
      "Number of Words in the Given String is : 8\n"
     ]
    }
   ],
   "source": [
    "let_str=input(\"Enter any string: \")\n",
    "count=1\n",
    "new_str=let_str.strip()\n",
    "for i in new_str:\n",
    "    if i==\" \":\n",
    "        count+=1\n",
    "    else:\n",
    "        count+=0\n",
    "print(f\"Number of Words in the Given String is : {count}\")"
   ]
  },
  {
   "cell_type": "markdown",
   "id": "77aab8ca-cd41-4a73-807b-8ae6c2d6980f",
   "metadata": {},
   "source": [
    "## Q10) Write a code to concatenate two strings without using the + operator"
   ]
  },
  {
   "cell_type": "code",
   "execution_count": 74,
   "id": "cffe23ac-055f-4114-9084-2003e2232996",
   "metadata": {},
   "outputs": [
    {
     "name": "stdin",
     "output_type": "stream",
     "text": [
      "Enter any string1:  Nobody knows\n",
      "Enter any string2:  Him, He is a sharp minded thief.\n"
     ]
    },
    {
     "name": "stdout",
     "output_type": "stream",
     "text": [
      "Nobody knowsHim, He is a sharp minded thief.\n"
     ]
    }
   ],
   "source": [
    "str1 = input(\"Enter any string1: \")\n",
    "str2 = input(\"Enter any string2: \")\n",
    "new_str = \"{}{}\".format(str1, str2)\n",
    "print(new_str)"
   ]
  },
  {
   "cell_type": "markdown",
   "id": "7c8c15e9-44aa-4f98-9859-a1bb8043bbac",
   "metadata": {},
   "source": [
    "## Q11) Write a code to remove all occurrences of a specific element from a list"
   ]
  },
  {
   "cell_type": "code",
   "execution_count": 16,
   "id": "ef7743e1-5550-4abc-9360-8973fd5f6450",
   "metadata": {},
   "outputs": [
    {
     "name": "stdin",
     "output_type": "stream",
     "text": [
      "Enter elements for list as an array:  1 2 3 4 5 7 1 2 45 6 2 2 2 2 2 1 1\n",
      "Enter element to Remove:  2\n"
     ]
    },
    {
     "name": "stdout",
     "output_type": "stream",
     "text": [
      "Removed element from lst: [1, 3, 4, 5, 7, 1, 2, 45, 6, 2, 2, 2, 2, 2, 1, 1]\n",
      "Removed element from lst: [1, 3, 4, 5, 7, 1, 45, 6, 2, 2, 2, 2, 2, 1, 1]\n",
      "Removed element from lst: [1, 3, 4, 5, 7, 1, 45, 6, 2, 2, 2, 2, 1, 1]\n",
      "Removed element from lst: [1, 3, 4, 5, 7, 1, 45, 6, 2, 2, 2, 1, 1]\n",
      "Removed element from lst: [1, 3, 4, 5, 7, 1, 45, 6, 2, 2, 1, 1]\n",
      "Removed element from lst: [1, 3, 4, 5, 7, 1, 45, 6, 2, 1, 1]\n",
      "Removed element from lst: [1, 3, 4, 5, 7, 1, 45, 6, 1, 1]\n",
      "Final list after removing all occurrences: [1, 3, 4, 5, 7, 1, 45, 6, 1, 1]\n"
     ]
    }
   ],
   "source": [
    "lst = list(map(int, input(\"Enter elements for list as an array: \").split()))\n",
    "element = int(input(\"Enter element to Remove: \"))  \n",
    "removed = False\n",
    "\n",
    "while element in lst:\n",
    "    lst.remove(element)\n",
    "    removed = True\n",
    "    print(f\"Removed element from lst: {lst}\")\n",
    "\n",
    "if not removed:\n",
    "    print(f\"Element: {element} not matched with lst: {lst}\")\n",
    "\n",
    "print(f\"Final list after removing all occurrences: {lst}\")\n"
   ]
  },
  {
   "cell_type": "markdown",
   "id": "f7621d67-9d91-4655-9b1a-6b050dfdaeab",
   "metadata": {},
   "source": [
    "## Q12) Implement a code to find the second largest number in a given list of integers"
   ]
  },
  {
   "cell_type": "code",
   "execution_count": 22,
   "id": "caa0f8bb-7170-4cf3-83c5-aefdd774332e",
   "metadata": {},
   "outputs": [
    {
     "name": "stdin",
     "output_type": "stream",
     "text": [
      "Enter elements for list as an array:  1 2 3 4 23 4 5 55 345 22\n"
     ]
    },
    {
     "name": "stdout",
     "output_type": "stream",
     "text": [
      "Second Largest Number is:22\n"
     ]
    }
   ],
   "source": [
    "lst = list(map(int, input(\"Enter elements for list as an array: \").split()))\n",
    "first_largest=0\n",
    "second_largest=0\n",
    "for i in lst:\n",
    "    if i>first_largest:\n",
    "        first_largest=i\n",
    "    elif i>second_largest:\n",
    "        second_largest=i\n",
    "print(f\"Second Largest Number is:{second_largest}\")"
   ]
  },
  {
   "cell_type": "markdown",
   "id": "d4f1f84f-b1e4-44a7-b237-8eb26f9612f4",
   "metadata": {},
   "source": [
    "## Q13) Create a code to count the occurrences of each element in a list and return a dictionary with elements as keys and their counts as values"
   ]
  },
  {
   "cell_type": "code",
   "execution_count": 28,
   "id": "931293f4-642f-4fcf-b83f-c37316ebd018",
   "metadata": {},
   "outputs": [
    {
     "name": "stdin",
     "output_type": "stream",
     "text": [
      "Enter elements for list as an array:  1 2 3 45 6 6 3 2 2 1 1\n"
     ]
    },
    {
     "name": "stdout",
     "output_type": "stream",
     "text": [
      "Dictionary is like: {1: 3, 2: 3, 3: 2, 45: 1, 6: 2}\n"
     ]
    }
   ],
   "source": [
    "lst = list(map(int, input(\"Enter elements for list as an array: \").split()))\n",
    "dictionary = {}\n",
    "\n",
    "for i in lst:\n",
    "    if i in dictionary:\n",
    "        dictionary[i] += 1\n",
    "    else:\n",
    "        dictionary[i] = 1\n",
    "\n",
    "print(f\"Dictionary is like: {dictionary}\")"
   ]
  },
  {
   "cell_type": "markdown",
   "id": "322f628f-e3c0-4de5-b23c-58c9e60265b0",
   "metadata": {},
   "source": [
    "## Q14) Write a code to reverse a list in-place without using any built-in reverse functions"
   ]
  },
  {
   "cell_type": "code",
   "execution_count": 32,
   "id": "faf21ffc-87f7-4c93-b9cd-1e33876422a5",
   "metadata": {},
   "outputs": [
    {
     "name": "stdin",
     "output_type": "stream",
     "text": [
      "Enter elements for list as an array:  1 23 4 5 4 6 2\n"
     ]
    },
    {
     "name": "stdout",
     "output_type": "stream",
     "text": [
      "The reversed List is:[2, 6, 4, 5, 4, 23, 1]\n"
     ]
    }
   ],
   "source": [
    "lst = list(map(int, input(\"Enter elements for list as an array: \").split()))\n",
    "reversed_list = []\n",
    "for i in lst[::-1]:\n",
    "    reversed_list.append(i)\n",
    "print(f\"The reversed List is:{reversed_list}\")"
   ]
  },
  {
   "cell_type": "markdown",
   "id": "f3bc897e-b740-426d-9186-2a576ca5f94e",
   "metadata": {},
   "source": [
    "## Q15) Implement a code to find and remove duplicates from a list while preserving the original order of elements"
   ]
  },
  {
   "cell_type": "code",
   "execution_count": 37,
   "id": "42fdb23f-9ed9-442f-a3a8-d187cfa63596",
   "metadata": {},
   "outputs": [
    {
     "name": "stdin",
     "output_type": "stream",
     "text": [
      "Enter elements for list as an array:  1 2 3  4 2 3 1 \n"
     ]
    },
    {
     "name": "stdout",
     "output_type": "stream",
     "text": [
      "[1, 2, 3, 4]\n"
     ]
    }
   ],
   "source": [
    "lst = list(map(int, input(\"Enter elements for list as an array: \").split()))\n",
    "counted_once = set()\n",
    "new_lst = []\n",
    "\n",
    "for i in lst:\n",
    "    if i not in counted_once:\n",
    "        counted_once.add(i)\n",
    "        new_lst.append(i)\n",
    "\n",
    "print(new_lst)"
   ]
  },
  {
   "cell_type": "markdown",
   "id": "896a8d74-42da-447a-81a3-73f4fe887c41",
   "metadata": {},
   "source": [
    "## Q16) Create a code to check if a given list is sorted (either in ascending or descending order) or not"
   ]
  },
  {
   "cell_type": "code",
   "execution_count": 43,
   "id": "645a7ccb-a444-4d7c-ba14-ab6a6c198fcc",
   "metadata": {},
   "outputs": [
    {
     "name": "stdin",
     "output_type": "stream",
     "text": [
      "Enter elements for list as an array:  1 2 34 54 75 753\n"
     ]
    },
    {
     "name": "stdout",
     "output_type": "stream",
     "text": [
      "Entered list is sorted\n",
      "Ascending and Descending List are as follow:[1, 2, 34, 54, 75, 753],[753, 75, 54, 34, 2, 1]\n"
     ]
    }
   ],
   "source": [
    "lst = list(map(int, input(\"Enter elements for list as an array: \").split()))\n",
    "asc_lst=sorted(lst)\n",
    "dec_lst=asc_lst[::-1]\n",
    "if lst==asc_lst or lst==dec_lst:\n",
    "    print(\"Entered list is sorted\")\n",
    "else: \n",
    "    print(\"Entered list is not sorted\")\n",
    "print(f\"Ascending and Descending List are as follow:{asc_lst},{dec_lst}\")"
   ]
  },
  {
   "cell_type": "markdown",
   "id": "383aa2ec-f14d-4b6b-bc63-8eb5198cfc96",
   "metadata": {},
   "source": [
    "## Q17) Write a code to merge two sorted lists into a single sorted list"
   ]
  },
  {
   "cell_type": "code",
   "execution_count": 48,
   "id": "3d13720b-42ab-46d5-8743-2a2a5818b919",
   "metadata": {},
   "outputs": [
    {
     "name": "stdin",
     "output_type": "stream",
     "text": [
      "Enter elements for list as an array:  3 2  12412 4124 12 4 42 \n",
      "Enter elements for list as an array:  1 2 345 65 6568 989\n"
     ]
    },
    {
     "name": "stdout",
     "output_type": "stream",
     "text": [
      "Our Final Sorted List:[1, 2, 2, 3, 4, 12, 42, 65, 345, 989, 4124, 6568, 12412]\n"
     ]
    }
   ],
   "source": [
    "lst1 = list(map(int, input(\"Enter elements for list as an array: \").split()))\n",
    "lst2 = list(map(int, input(\"Enter elements for list as an array: \").split()))\n",
    "\n",
    "new_lst=sorted(sorted(lst1)+sorted(lst2))\n",
    "print(f\"Our Final Sorted List:{new_lst}\")"
   ]
  },
  {
   "cell_type": "markdown",
   "id": "a8636032-c752-4a6c-a3aa-55c0150aca90",
   "metadata": {},
   "source": [
    "## Q18) Implement a code to find the intersection of two given lists"
   ]
  },
  {
   "cell_type": "code",
   "execution_count": 52,
   "id": "b8f9a83c-27c3-4aa0-818f-21ea70981363",
   "metadata": {},
   "outputs": [
    {
     "name": "stdin",
     "output_type": "stream",
     "text": [
      "Enter elements for list as an array:  \"ram\" 1 2 4 45\n",
      "Enter elements for list as an array:  1 2 45 4314 \"ram\" 'ram' \"shyam\"\n"
     ]
    },
    {
     "name": "stdout",
     "output_type": "stream",
     "text": [
      "Intersection of lst1 and lst2:['\"ram\"', '1', '2', '45']\n"
     ]
    }
   ],
   "source": [
    "lst1 = list(input(\"Enter elements for list as an array: \").split())\n",
    "lst2 = list(input(\"Enter elements for list as an array: \").split())\n",
    "common_lst=[]\n",
    "for i in lst1:\n",
    "    for j in lst2:\n",
    "        if i==j:\n",
    "            common_lst.append(i)\n",
    "        else:\n",
    "            pass\n",
    "print(f\"Intersection of lst1 and lst2:{common_lst}\")"
   ]
  },
  {
   "cell_type": "markdown",
   "id": "62a3a6ce-963e-474f-a9b2-74f007f4baac",
   "metadata": {},
   "source": [
    "## Q19) Create a code to find the union of two lists without duplicates"
   ]
  },
  {
   "cell_type": "code",
   "execution_count": 59,
   "id": "788ec4d3-19df-452e-8764-852693b89b95",
   "metadata": {},
   "outputs": [
    {
     "name": "stdin",
     "output_type": "stream",
     "text": [
      "Enter elements for list as an array:  1 2 45 4314 \"ram\" 'ram' \"shyam\"\n",
      "Enter elements for list as an array:  \"ram\" 1 2 4 45\n"
     ]
    },
    {
     "name": "stdout",
     "output_type": "stream",
     "text": [
      "Union of lst1 and lst2:['45', '2', '4', \"'ram'\", '\"ram\"', '4314', '\"shyam\"', '1']\n"
     ]
    }
   ],
   "source": [
    "lst1 = list(input(\"Enter elements for list as an array: \").split())\n",
    "lst2 = list(input(\"Enter elements for list as an array: \").split())\n",
    "union_lst=list(set(lst1) | set(lst2)) \n",
    "print(f\"Union of lst1 and lst2:{union_lst}\")"
   ]
  },
  {
   "cell_type": "markdown",
   "id": "e31975d5-2f99-45ac-a31a-e95f9e67a10f",
   "metadata": {},
   "source": [
    "## Q20) Write a code to shuffle a given list randomly without using any built-in shuffle functions"
   ]
  },
  {
   "cell_type": "code",
   "execution_count": 66,
   "id": "5d2ff4d2-a8dd-46c8-ab7f-9e60aed6a8af",
   "metadata": {},
   "outputs": [
    {
     "name": "stdout",
     "output_type": "stream",
     "text": [
      "Shuffeled List is as: [6, 7, 0, 8, 1, 9, 2, 3, 4, 5]\n"
     ]
    }
   ],
   "source": [
    "import random\n",
    "\n",
    "lst = [1, 2, 3, 4, 5, 6, 7, 8, 9,0]\n",
    "\n",
    "for i in range(len(lst) - 1, 0, -1):\n",
    "    j = random.randint(0, i)\n",
    "    lst[i], lst[j] = lst[j], lst[i]  \n",
    "\n",
    "print(f\"Shuffeled List is as: {lst}\")\n"
   ]
  },
  {
   "cell_type": "markdown",
   "id": "f658235d-920c-4efa-bc7d-0d85d674578f",
   "metadata": {},
   "source": [
    "## Q21) Write a code that takes two tuples as input and returns a new tuple containing elements that are common to both input tuples"
   ]
  },
  {
   "cell_type": "code",
   "execution_count": 69,
   "id": "03389c7f-bdfe-4cd1-b2a2-f3eb57ac5c1b",
   "metadata": {},
   "outputs": [
    {
     "name": "stdin",
     "output_type": "stream",
     "text": [
      "Enter elements for tuple1:  21 32 4 2 5 6 7\n",
      "Enter elements for tuple2:  1 2 3 4 5 6 7 8 9\n"
     ]
    },
    {
     "name": "stdout",
     "output_type": "stream",
     "text": [
      "common elemnets of tup1 and tup2:('2', '6', '4', '7', '5')\n"
     ]
    }
   ],
   "source": [
    "tup1 = tuple(input(\"Enter elements for tuple1: \").split())\n",
    "tup2 = tuple(input(\"Enter elements for tuple2: \").split())\n",
    "common_tup=tuple(set(tup1) & set(tup2)) \n",
    "print(f\"common elemnets of tup1 and tup2:{common_tup}\")"
   ]
  },
  {
   "cell_type": "markdown",
   "id": "caffa93e-eb34-48e0-8ecc-2ae5a0a335e4",
   "metadata": {},
   "source": [
    "## Q22) Create a code that prompts the user to enter two sets of integers separated by commas. Then, print the intersection of these two sets"
   ]
  },
  {
   "cell_type": "code",
   "execution_count": 72,
   "id": "5481464e-7507-4b65-a351-be951cea5164",
   "metadata": {},
   "outputs": [
    {
     "name": "stdin",
     "output_type": "stream",
     "text": [
      "enter the first set 1,2,3,4,6,7,9\n",
      "enter the second set 1,2,4,66,9\n"
     ]
    },
    {
     "name": "stdout",
     "output_type": "stream",
     "text": [
      "Intersection of two sets set1 and set2: {'2', '9', '4', '1'}\n"
     ]
    }
   ],
   "source": [
    "set1=set(input(\"enter the first set\").split(\",\"))\n",
    "set2=set(input(\"enter the second set\").split(\",\"))\n",
    "Intersection=set(set1 & set2)\n",
    "print(f\"Intersection of two sets set1 and set2: {Intersection}\")"
   ]
  },
  {
   "cell_type": "markdown",
   "id": "d3737c9a-b1b8-4eb1-9a5b-11848c6a9a1e",
   "metadata": {},
   "source": [
    "## Q23) Write a code to concatenate two tuples. The function should take two tuples as input and return a new tuple containing elements from both input tuples"
   ]
  },
  {
   "cell_type": "code",
   "execution_count": 74,
   "id": "21b3e812-9e88-4ecb-9ea5-3f0fadee7639",
   "metadata": {},
   "outputs": [
    {
     "name": "stdin",
     "output_type": "stream",
     "text": [
      "Enter elements for tuple1:  1 2 3 4 5 6\n",
      "Enter elements for tuple2:  'a' 'b' 'c' 'd'\n"
     ]
    },
    {
     "name": "stdout",
     "output_type": "stream",
     "text": [
      "Concatenation of two tuples tup1 and tup2: ('1', '2', '3', '4', '5', '6', \"'a'\", \"'b'\", \"'c'\", \"'d'\")\n"
     ]
    }
   ],
   "source": [
    "tup1 = tuple(input(\"Enter elements for tuple1: \").split())\n",
    "tup2 = tuple(input(\"Enter elements for tuple2: \").split())\n",
    "concat=tuple(tup1 + tup2) \n",
    "print(f\"Concatenation of two tuples tup1 and tup2: {concat}\")"
   ]
  },
  {
   "cell_type": "markdown",
   "id": "1c07fbfd-23fc-4f6d-bbca-0e66b8050bd7",
   "metadata": {},
   "source": [
    "## Q24) Develop a code that prompts the user to input two sets of strings. Then, print the elements that are present in the first set but not in the second set"
   ]
  },
  {
   "cell_type": "code",
   "execution_count": 75,
   "id": "45ffa7bc-d1ef-47b7-9bc5-0c395aa6fe2a",
   "metadata": {},
   "outputs": [
    {
     "name": "stdin",
     "output_type": "stream",
     "text": [
      "enter the first set 'ram',\"shyam','deva','rahul','karan'\n",
      "enter the second set \"ravan\",\"don\",'ram','karan',\"vishal\"\n"
     ]
    },
    {
     "name": "stdout",
     "output_type": "stream",
     "text": [
      "Elements present in first set but not in second set: {\"'rahul'\", \"'deva'\", '\"shyam\\''}\n"
     ]
    }
   ],
   "source": [
    "set1=set(input(\"enter the first set\").split(\",\"))\n",
    "set2=set(input(\"enter the second set\").split(\",\"))\n",
    "setA=set(set1-set2)\n",
    "print(f\"Elements present in first set but not in second set: {setA}\")\n"
   ]
  },
  {
   "cell_type": "markdown",
   "id": "08097dc1-7200-45e6-9325-5c9ca06829ff",
   "metadata": {},
   "source": [
    "## Q25) Create a code that takes a tuple and two integers as input. The function should return a new tuple containing elements from the original tuple within the specified range of indices"
   ]
  },
  {
   "cell_type": "code",
   "execution_count": 77,
   "id": "abf116ab-3959-46a7-bdc5-caea1cb13090",
   "metadata": {},
   "outputs": [
    {
     "name": "stdin",
     "output_type": "stream",
     "text": [
      "Enter elements for tuple1:  1 2 4 4 45436 547  8 57 8947 9 870 4 5234\n",
      "enter the start index: 3\n",
      "enter the End index: 8\n"
     ]
    },
    {
     "name": "stdout",
     "output_type": "stream",
     "text": [
      "New tuple within the specified range of indices:('4', '45436', '547', '8', '57')\n"
     ]
    }
   ],
   "source": [
    "tupA = tuple(input(\"Enter elements for tuple1: \").split())\n",
    "start_index = int(input(\"enter the start index:\"))\n",
    "end_index = int(input(\"enter the End index:\"))\n",
    "\n",
    "new_tuple = tupA[start_index:end_index]\n",
    "print(f\"New tuple within the specified range of indices:{new_tuple}\")"
   ]
  },
  {
   "cell_type": "markdown",
   "id": "bbb629f9-5785-4f45-bb99-74b463417fff",
   "metadata": {},
   "source": [
    "## Q26) Write a code that prompts the user to input two sets of characters. Then, print the union of these two sets"
   ]
  },
  {
   "cell_type": "code",
   "execution_count": 78,
   "id": "753b10b4-b120-4f98-b2a0-448aabff7f98",
   "metadata": {},
   "outputs": [
    {
     "name": "stdin",
     "output_type": "stream",
     "text": [
      "Enter the first set of characters:  a b c d e f\n",
      "Enter the second set of characters:  p g r e a\n"
     ]
    },
    {
     "name": "stdout",
     "output_type": "stream",
     "text": [
      "Union of the two sets: {'c', 'e', 'p', 'r', 'f', 'a', 'd', 'g', ' ', 'b'}\n"
     ]
    }
   ],
   "source": [
    "set1_input = input(\"Enter the first set of characters: \")\n",
    "set2_input = input(\"Enter the second set of characters: \")\n",
    "\n",
    "set1 = set(set1_input)\n",
    "set2 = set(set2_input)\n",
    "\n",
    "union_set = set1.union(set2)\n",
    "print(\"Union of the two sets:\", union_set)"
   ]
  },
  {
   "cell_type": "markdown",
   "id": "ff36ebe4-f851-4318-9ae1-1519808bdffc",
   "metadata": {},
   "source": [
    "## Q27) Develop a code that takes a tuple of integers as input. The function should return the maximum and minimum values from the tuple using tuple unpacking"
   ]
  },
  {
   "cell_type": "code",
   "execution_count": 79,
   "id": "3887e099-760c-40c0-8822-f186730e2709",
   "metadata": {},
   "outputs": [
    {
     "name": "stdin",
     "output_type": "stream",
     "text": [
      "Enter a tuple of integers:  1,2,4,8,22,55,12431,56,66\n"
     ]
    },
    {
     "name": "stdout",
     "output_type": "stream",
     "text": [
      "Maximum value: 12431\n",
      "Minimum value: 1\n"
     ]
    }
   ],
   "source": [
    "input_tuple = tuple(map(int, input(\"Enter a tuple of integers: \").split(',')))\n",
    "\n",
    "max_value, min_value = max(input_tuple), min(input_tuple)\n",
    "\n",
    "print(\"Maximum value:\", max_value)\n",
    "print(\"Minimum value:\", min_value)"
   ]
  },
  {
   "cell_type": "markdown",
   "id": "35e6ea08-1352-4f8f-a35b-92372b90aaa9",
   "metadata": {},
   "source": [
    "## Q28) Create a code that defines two sets of integers. Then, print the union, intersection, and difference of these two sets"
   ]
  },
  {
   "cell_type": "code",
   "execution_count": 80,
   "id": "5ece031d-b6f2-46a7-93b9-bf7be05dc4c2",
   "metadata": {},
   "outputs": [
    {
     "name": "stdout",
     "output_type": "stream",
     "text": [
      "Union: {1, 2, 3, 4, 5, 6, 7, 8}\n",
      "Intersection: {4, 5}\n",
      "Difference (set1 - set2): {1, 2, 3}\n"
     ]
    }
   ],
   "source": [
    "set1 = {1, 2, 3, 4, 5}\n",
    "set2 = {4, 5, 6, 7, 8}\n",
    "\n",
    "union_set = set1 | set2\n",
    "print(\"Union:\", union_set)\n",
    "\n",
    "intersection_set = set1 & set2\n",
    "print(\"Intersection:\", intersection_set)\n",
    "\n",
    "difference_set = set1 - set2\n",
    "print(\"Difference (set1 - set2):\", difference_set)\n"
   ]
  },
  {
   "cell_type": "markdown",
   "id": "5c6d2e20-5488-4728-804a-ef0b005e3a22",
   "metadata": {},
   "source": [
    "## Q29) Write a code that takes a tuple and an element as input. The function should return the count of occurrences of the given element in the tuple"
   ]
  },
  {
   "cell_type": "code",
   "execution_count": 83,
   "id": "9f632d0d-d920-49b4-85eb-6ac8be4595f6",
   "metadata": {},
   "outputs": [
    {
     "name": "stdin",
     "output_type": "stream",
     "text": [
      "Enter a tuple of integers:  1 2 3 4 5 6 75 4 3 2 2 34 5 67 75 4\n",
      "enter the element value: 2\n"
     ]
    },
    {
     "name": "stdout",
     "output_type": "stream",
     "text": [
      "The element 2 appears 3 times in the tuple.\n"
     ]
    }
   ],
   "source": [
    "\n",
    "input_tuple = tuple(map(int, input(\"Enter a tuple of integers: \").split()))\n",
    "element = int(input(\"enter the element value:\"))\n",
    "\n",
    "count = input_tuple.count(element)\n",
    "\n",
    "print(f\"The element {element} appears {count} times in the tuple.\")"
   ]
  },
  {
   "cell_type": "markdown",
   "id": "11fbaee0-9f81-4a62-b094-bdeebbc72dc7",
   "metadata": {},
   "source": [
    "## Q30) Develop a code that prompts the user to input two sets of strings. Then, print the symmetric difference of these two sets"
   ]
  },
  {
   "cell_type": "code",
   "execution_count": 84,
   "id": "daeb3105-d9ac-4179-b2b8-9ce03d7d0d04",
   "metadata": {},
   "outputs": [
    {
     "name": "stdin",
     "output_type": "stream",
     "text": [
      "Enter the first set of strings, separated by spaces:   a b e r g j j\n",
      "Enter the second set of strings, separated by spaces:   w g h j ed s d \n"
     ]
    },
    {
     "name": "stdout",
     "output_type": "stream",
     "text": [
      "Symmetric Difference: {'e', 'd', 'h', 'a', 'w', 's', 'ed', 'r', 'b'}\n"
     ]
    }
   ],
   "source": [
    "set1 = set(input(\"Enter the first set of strings: \").split())\n",
    "set2 = set(input(\"Enter the second set of strings: \").split())\n",
    "\n",
    "symmetric_difference = set1 ^ set2\n",
    "\n",
    "print(\"Symmetric Difference:\", symmetric_difference)"
   ]
  },
  {
   "cell_type": "markdown",
   "id": "836f8c3c-49d4-4ba6-8e64-73ce17643920",
   "metadata": {},
   "source": [
    "## Q31) Write a code that takes a list of words as input and returns a dictionary where the keys are unique words and the values are the frequencies of those words in the input list"
   ]
  },
  {
   "cell_type": "code",
   "execution_count": 85,
   "id": "2bf31b75-83ed-4791-a7f8-8eccda16774c",
   "metadata": {},
   "outputs": [
    {
     "name": "stdout",
     "output_type": "stream",
     "text": [
      "{'apple': 3, 'banana': 2, 'orange': 1}\n"
     ]
    }
   ],
   "source": [
    "words_list = [\"apple\", \"banana\", \"apple\", \"orange\", \"banana\", \"apple\"]\n",
    "word_frequency = {}\n",
    "for word in words_list:\n",
    "    if word in word_frequency:\n",
    "        word_frequency[word] += 1\n",
    "    else:\n",
    "        word_frequency[word] = 1\n",
    "\n",
    "print(word_frequency)"
   ]
  },
  {
   "cell_type": "markdown",
   "id": "1dc1ef3b-e52f-4345-99e6-503eafcfb9fd",
   "metadata": {},
   "source": [
    "## Q32) Write a code that takes two dictionaries as input and merges them into a single dictionary. If there are common keys, the values should be added together"
   ]
  },
  {
   "cell_type": "code",
   "execution_count": 86,
   "id": "9c91ca7e-9233-4675-b1c7-b14faf21324a",
   "metadata": {},
   "outputs": [
    {
     "name": "stdout",
     "output_type": "stream",
     "text": [
      "Merged Dictionary: {'a': 10, 'b': 35, 'c': 55, 'd': 35}\n"
     ]
    }
   ],
   "source": [
    "dict1 = {'a': 10, 'b': 20, 'c': 30}\n",
    "dict2 = {'b': 15, 'c': 25, 'd': 35}\n",
    "\n",
    "merged_dict = dict1.copy()  \n",
    "for key, value in dict2.items():\n",
    "    if key in merged_dict:\n",
    "        merged_dict[key] += value  \n",
    "    else:\n",
    "        merged_dict[key] = value \n",
    "print(\"Merged Dictionary:\", merged_dict)\n"
   ]
  },
  {
   "cell_type": "markdown",
   "id": "6d7c7cc4-fbfd-4e3e-8810-1f123e6f04a4",
   "metadata": {},
   "source": [
    "## Q33) Write a code to access a value in a nested dictionary. The function should take the dictionary and a list of keys as input, and return the corresponding value. If any of the keys do not exist in the dictionary, the function should return None"
   ]
  },
  {
   "cell_type": "code",
   "execution_count": 87,
   "id": "f4a5f3c4-c2da-4439-bffe-6f25168b6564",
   "metadata": {},
   "outputs": [
    {
     "name": "stdout",
     "output_type": "stream",
     "text": [
      "The corresponding value is: 10\n"
     ]
    }
   ],
   "source": [
    "nested_dict = {\n",
    "    'a': {\n",
    "        'b': {\n",
    "            'c': 10\n",
    "        }\n",
    "    },\n",
    "    'x': {\n",
    "        'y': {\n",
    "            'z': 20\n",
    "        }\n",
    "    }\n",
    "}\n",
    "\n",
    "keys = ['a', 'b', 'c']\n",
    "\n",
    "value = nested_dict\n",
    "for key in keys:\n",
    "    value = value.get(key, None)\n",
    "    if value is None:\n",
    "        break\n",
    "\n",
    "print(\"The corresponding value is:\", value)\n"
   ]
  },
  {
   "cell_type": "markdown",
   "id": "3679f057-f90d-4114-87f0-3566d364295c",
   "metadata": {},
   "source": [
    "## Q34) Write a code that takes a dictionary as input and returns a sorted version of it based on the values. You can choose whether to sort in ascending or descending order"
   ]
  },
  {
   "cell_type": "code",
   "execution_count": 90,
   "id": "a654b3eb-2b15-42c9-8a5c-c1adfa50040d",
   "metadata": {},
   "outputs": [
    {
     "name": "stdout",
     "output_type": "stream",
     "text": [
      "Sorted in ascending order: {'banana': 5, 'orange': 8, 'apple': 10, 'mango': 12}\n",
      "Sorted in descending order: {'mango': 12, 'apple': 10, 'orange': 8, 'banana': 5}\n"
     ]
    }
   ],
   "source": [
    "my_dict = {'apple': 10, 'banana': 5, 'orange': 8, 'mango': 12}\n",
    "\n",
    "sorted_dict_ascending = dict(sorted(my_dict.items(), key=lambda item: item[1]))\n",
    "print(\"Sorted in ascending order:\", sorted_dict_ascending)\n",
    "\n",
    "sorted_dict_descending = dict(sorted(my_dict.items(), key=lambda item: item[1], reverse=True))\n",
    "print(\"Sorted in descending order:\", sorted_dict_descending)\n"
   ]
  },
  {
   "cell_type": "markdown",
   "id": "274b3cd4-431c-4617-be45-ddc75d5881d6",
   "metadata": {},
   "source": [
    "## Q35) Write a code that inverts a dictionary, swapping keys and values. Ensure that the inverted dictionary correctly handles cases where multiple keys have the same value by storing the keys as a list in the inverted dictionary."
   ]
  },
  {
   "cell_type": "code",
   "execution_count": 92,
   "id": "b74a8421-6f2a-4a98-bfac-74d9e557870e",
   "metadata": {},
   "outputs": [
    {
     "name": "stdout",
     "output_type": "stream",
     "text": [
      "Inverted Dictionalry is :{1: ['a', 'c'], 2: ['b'], 3: ['d']}\n"
     ]
    }
   ],
   "source": [
    "original_dict = {'a': 1,'b': 2,'c': 1,'d': 3}\n",
    "\n",
    "inverted_dict = {}\n",
    "\n",
    "for key, value in original_dict.items():\n",
    "    if value not in inverted_dict:\n",
    "        inverted_dict[value] = [key]\n",
    "    else:\n",
    "        inverted_dict[value].append(key)\n",
    "print(f\"Inverted Dictionalry is :{inverted_dict}\")\n"
   ]
  },
  {
   "cell_type": "code",
   "execution_count": null,
   "id": "1169a57f-00d9-4330-b27b-afb6dde922a3",
   "metadata": {},
   "outputs": [],
   "source": []
  }
 ],
 "metadata": {
  "kernelspec": {
   "display_name": "Python 3 (ipykernel)",
   "language": "python",
   "name": "python3"
  },
  "language_info": {
   "codemirror_mode": {
    "name": "ipython",
    "version": 3
   },
   "file_extension": ".py",
   "mimetype": "text/x-python",
   "name": "python",
   "nbconvert_exporter": "python",
   "pygments_lexer": "ipython3",
   "version": "3.12.3"
  }
 },
 "nbformat": 4,
 "nbformat_minor": 5
}
