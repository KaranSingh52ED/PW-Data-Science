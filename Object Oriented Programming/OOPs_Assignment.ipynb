{
 "cells": [
  {
   "cell_type": "markdown",
   "id": "fd38b93b-3690-4642-846c-5d6e75eed24f",
   "metadata": {},
   "source": [
    "# Object Oriented Programming"
   ]
  },
  {
   "cell_type": "markdown",
   "id": "6bd4b2a0-da99-4cb3-abb0-caaa711b4b9d",
   "metadata": {},
   "source": [
    "### Q1) Explain the importance of Functions\n",
    "#### Ans) Functions in Python are like small reusable programs inside a bigger program. They help break code into smaller parts, making it easier to read, fix, and reuse. Instead of writing the same code multiple times, you can create a function and use it whenever needed. This saves time, reduces errors, and makes programs more organized. Functions also help in solving complex problems step by step, making coding simpler and more efficient."
   ]
  },
  {
   "cell_type": "markdown",
   "id": "fc712150-cee8-41c1-b72d-bcc1352d4e59",
   "metadata": {},
   "source": [
    "### Q2) Write a basic function to greet students"
   ]
  },
  {
   "cell_type": "code",
   "execution_count": 27,
   "id": "bb33606d-22eb-44be-9295-b246fc49e332",
   "metadata": {},
   "outputs": [
    {
     "name": "stdout",
     "output_type": "stream",
     "text": [
      "Hello, Karan Singh! Welcome to class.\n",
      "Hello, Vishal Kumar! Welcome to class.\n"
     ]
    }
   ],
   "source": [
    "def greet_student(name):\n",
    "    print(f\"Hello, {name}! Welcome to class.\")\n",
    "    \n",
    "greet_student(\"Karan Singh\")\n",
    "greet_student(\"Vishal Kumar\")"
   ]
  },
  {
   "cell_type": "markdown",
   "id": "18b62c79-eebf-453f-a65c-129b76d69f0c",
   "metadata": {},
   "source": [
    "### Q3) What is the difference between print and return statements?"
   ]
  },
  {
   "cell_type": "markdown",
   "id": "07e1017f-f2ee-4746-94f7-c90247c470ea",
   "metadata": {},
   "source": [
    "#### Print is used for showing information but does not store or pass data.\n",
    "#### Return gives a value back to the caller, allowing it to be used later in the program."
   ]
  },
  {
   "cell_type": "code",
   "execution_count": 28,
   "id": "46586823-aa63-4501-a007-e771653cad8a",
   "metadata": {},
   "outputs": [
    {
     "name": "stdout",
     "output_type": "stream",
     "text": [
      "6\n"
     ]
    }
   ],
   "source": [
    "def print_function(x, y):\n",
    "    print(x * y)\n",
    "print_function(2, 3)  # Outputs: 6"
   ]
  },
  {
   "cell_type": "code",
   "execution_count": 29,
   "id": "fefc64d4-d915-4350-a899-73833ebf943a",
   "metadata": {},
   "outputs": [],
   "source": [
    "def return_function(x, y):\n",
    "    return x * y\n",
    "result = return_function(2, 3)  # result now holds the value 6\n"
   ]
  },
  {
   "cell_type": "markdown",
   "id": "bdbb4723-ecfc-4809-a1b5-aed105c7b16d",
   "metadata": {},
   "source": [
    "### Q4) What are *args and **kwargs"
   ]
  },
  {
   "cell_type": "markdown",
   "id": "a55f2644-d927-4024-9fc4-6f76312c19cf",
   "metadata": {},
   "source": [
    "#### *args allows a function to accept any number of positional arguments as a tuple.\n",
    "#### **kwargs allows a function to accept any number of keyword arguments as a dictionary."
   ]
  },
  {
   "cell_type": "code",
   "execution_count": 30,
   "id": "ab2f4416-ca72-46a3-ab53-5bb06a74f73a",
   "metadata": {},
   "outputs": [
    {
     "name": "stdout",
     "output_type": "stream",
     "text": [
      "Hello, Karan!\n",
      "Hello, Deva!\n",
      "age: 22\n",
      "city: Mathura\n"
     ]
    }
   ],
   "source": [
    "def greet(*args, **kwargs):\n",
    "    for name in args:\n",
    "        print(f\"Hello, {name}!\")\n",
    "    for key, value in kwargs.items():\n",
    "        print(f\"{key}: {value}\")\n",
    "\n",
    "greet(\"Karan\", \"Deva\", age=22, city=\"Mathura\")\n"
   ]
  },
  {
   "cell_type": "markdown",
   "id": "c7d059ac-576a-4750-b988-ec1530a7f5b4",
   "metadata": {},
   "source": [
    "### Q5) Explain the iterator function"
   ]
  },
  {
   "cell_type": "markdown",
   "id": "676abc8b-3490-4ffd-a213-feabc7f4d7ab",
   "metadata": {},
   "source": [
    "#### An iterator function is a special function in programming that helps process items one by one instead of all at once. It works like a playlist, where you play one song, then the next, and so on. In Python, iterators use the __iter__() and __next__() methods. You can create one using a generator with the yield keyword. This helps in handling large amounts of data efficiently without using too much memory."
   ]
  },
  {
   "cell_type": "markdown",
   "id": "e113205a-8504-40c4-92e3-c47ba52e690d",
   "metadata": {},
   "source": [
    "### Q6) Write a code that generates the squares of numbers from 1 to n using a generator"
   ]
  },
  {
   "cell_type": "code",
   "execution_count": 31,
   "id": "b63bcd51-55e6-40f1-9f39-86a3215a4924",
   "metadata": {},
   "outputs": [
    {
     "name": "stdout",
     "output_type": "stream",
     "text": [
      "1\n",
      "4\n",
      "9\n",
      "16\n",
      "25\n",
      "36\n",
      "49\n"
     ]
    }
   ],
   "source": [
    "def square_numbers(n):\n",
    "    for i in range(1, n + 1):\n",
    "        yield i * i  \n",
    "n = 7\n",
    "for square in square_numbers(n):\n",
    "    print(square)"
   ]
  },
  {
   "cell_type": "markdown",
   "id": "91d5e7a0-126b-48e6-a40d-b2164c024e6d",
   "metadata": {},
   "source": [
    "### Q7) Write a code that generates palindromic numbers up to n using a generator"
   ]
  },
  {
   "cell_type": "code",
   "execution_count": 32,
   "id": "4f694c08-d992-40b5-8bbc-3674a05af636",
   "metadata": {},
   "outputs": [
    {
     "name": "stdout",
     "output_type": "stream",
     "text": [
      "[0, 1, 2, 3, 4, 5, 6, 7, 8, 9, 11, 22, 33, 44, 55, 66, 77, 88, 99, 101, 111, 121, 131, 141, 151, 161, 171, 181, 191, 202, 212, 222, 232, 242]\n"
     ]
    }
   ],
   "source": [
    "def palindromes(n):\n",
    "    for i in range(n + 1):\n",
    "        if str(i) == str(i)[::-1]:  \n",
    "            yield i\n",
    "            \n",
    "print(list(palindromes(250)))"
   ]
  },
  {
   "cell_type": "markdown",
   "id": "622c3f6e-9559-4c3c-a406-1669423f6065",
   "metadata": {},
   "source": [
    "### Q8) Write a code that generates even numbers from 2 to n using a generator"
   ]
  },
  {
   "cell_type": "code",
   "execution_count": 33,
   "id": "179ad95a-13eb-40aa-b050-1256d9fb8c3f",
   "metadata": {},
   "outputs": [
    {
     "name": "stdout",
     "output_type": "stream",
     "text": [
      "[2, 4, 6, 8, 10, 12, 14, 16, 18, 20, 22, 24, 26, 28, 30, 32, 34, 36, 38, 40]\n"
     ]
    }
   ],
   "source": [
    "def even_numbers(n):\n",
    "    for i in range(2, n + 1): \n",
    "        if i % 2 == 0: \n",
    "            yield i\n",
    "        \n",
    "print(list(even_numbers(40))) "
   ]
  },
  {
   "cell_type": "markdown",
   "id": "86a299b8-26fe-4de5-b4ff-618dde9709b6",
   "metadata": {},
   "source": [
    "### Q9) Write a code that generates powers of two up to n using a generator"
   ]
  },
  {
   "cell_type": "code",
   "execution_count": 34,
   "id": "b8039a94-6ce9-44ef-ae7d-fe9e87d54d14",
   "metadata": {},
   "outputs": [
    {
     "name": "stdout",
     "output_type": "stream",
     "text": [
      "[4, 8, 16, 32, 64, 128, 256, 512, 1024, 2048, 4096]\n"
     ]
    }
   ],
   "source": [
    "def power(n):\n",
    "    for i in range(2, n + 1): \n",
    "            yield 2**i\n",
    "        \n",
    "print(list(power(12))) "
   ]
  },
  {
   "cell_type": "markdown",
   "id": "b68f3212-fa4a-4dc7-a1e2-45e212d8ddb4",
   "metadata": {},
   "source": [
    "### Q10) Write a code that generates prime numbers up to n using a generator"
   ]
  },
  {
   "cell_type": "code",
   "execution_count": 35,
   "id": "8ef9a1d2-e8f9-41b5-9cfb-a140229ebb20",
   "metadata": {},
   "outputs": [
    {
     "name": "stdout",
     "output_type": "stream",
     "text": [
      "[2, 3, 5, 7, 11, 13, 17, 19, 23, 29, 31, 37, 41, 43, 47]\n"
     ]
    }
   ],
   "source": [
    "def prime(n):\n",
    "    for i in range(2, n): \n",
    "        is_prime = True\n",
    "        for j in range(2, int(i ** 0.5) + 1):  \n",
    "            if i % j == 0:\n",
    "                is_prime = False\n",
    "                break\n",
    "        if is_prime:\n",
    "            yield i \n",
    "\n",
    "print(list(prime(50)))\n"
   ]
  },
  {
   "cell_type": "markdown",
   "id": "7225440e-2232-43e6-90db-07e4a0507353",
   "metadata": {},
   "source": [
    "### Q11) Write a code that uses a lambda function to calculate the sum of two numbers"
   ]
  },
  {
   "cell_type": "code",
   "execution_count": 36,
   "id": "b7f546d1-e86c-4bde-92a4-f3c5c71dbaca",
   "metadata": {},
   "outputs": [
    {
     "name": "stdout",
     "output_type": "stream",
     "text": [
      "Sum of two numbers,15\n"
     ]
    }
   ],
   "source": [
    "sum_lambda = lambda a, b: a + b\n",
    "result = sum_lambda(5, 10)\n",
    "print(f\"Sum of two numbers,{result}\") "
   ]
  },
  {
   "cell_type": "markdown",
   "id": "0e79ae4b-712b-496b-9281-76bc68abdb51",
   "metadata": {},
   "source": [
    "### Q12) Write a code that uses a lambda function to calculate the square of a given number"
   ]
  },
  {
   "cell_type": "code",
   "execution_count": 37,
   "id": "bf7f4aab-7565-48ea-a416-bccfba813dc5",
   "metadata": {},
   "outputs": [
    {
     "name": "stdout",
     "output_type": "stream",
     "text": [
      "Square of Given Number: 576\n"
     ]
    }
   ],
   "source": [
    "given_number = 24\n",
    "square = lambda x: x ** 2 \n",
    "print(f\"Square of Given Number: {square(given_number)}\")"
   ]
  },
  {
   "cell_type": "markdown",
   "id": "990c46fa-fc75-4312-888a-63116c35f101",
   "metadata": {},
   "source": [
    "### Q13) Write a code that uses a lambda function to check whether a given number is even or odd"
   ]
  },
  {
   "cell_type": "code",
   "execution_count": 38,
   "id": "41c802fa-b00f-4d3a-a68f-10dd79c83a09",
   "metadata": {},
   "outputs": [
    {
     "name": "stdout",
     "output_type": "stream",
     "text": [
      "15 is Odd\n",
      "24 is Even\n"
     ]
    }
   ],
   "source": [
    "is_even = lambda x: \"Even\" if x % 2 == 0 else \"Odd\"\n",
    "number = 15\n",
    "print(f\"{number} is {is_even(number)}\")\n",
    "\n",
    "number = 24\n",
    "print(f\"{number} is {is_even(number)}\")"
   ]
  },
  {
   "cell_type": "markdown",
   "id": "0a82027d-fc29-4d1f-a7d0-019779cc8c47",
   "metadata": {},
   "source": [
    "### Q15) Write a code that uses a lambda function to concatenate two strings."
   ]
  },
  {
   "cell_type": "code",
   "execution_count": 39,
   "id": "db694bbf-ff24-48d5-9289-8086bea8c2c8",
   "metadata": {},
   "outputs": [
    {
     "name": "stdout",
     "output_type": "stream",
     "text": [
      "Concatenated String is : KaranSingh\n"
     ]
    }
   ],
   "source": [
    "str1=\"Karan\"\n",
    "str2=\"Singh\"\n",
    "concatenate_str=lambda x,y:x+y\n",
    "print(f\"Concatenated String is : {concatenate_str(str1,str2)}\")"
   ]
  },
  {
   "cell_type": "markdown",
   "id": "75967ac5-557e-4394-9d2b-ff59927fc31c",
   "metadata": {},
   "source": [
    "### Q16) Write a code that uses a lambda function to find the maximum of three given numbers"
   ]
  },
  {
   "cell_type": "code",
   "execution_count": 40,
   "id": "1ef1e089-c798-4fc5-8d67-b630a0c6bc10",
   "metadata": {},
   "outputs": [
    {
     "name": "stdout",
     "output_type": "stream",
     "text": [
      "The maximum of 10, 25, and 18 is 25\n"
     ]
    }
   ],
   "source": [
    "max_of_three = lambda a, b, c: max(a, b, c)\n",
    "\n",
    "num1, num2, num3 = 10, 25, 18\n",
    "print(f\"The maximum of {num1}, {num2}, and {num3} is {max_of_three(num1, num2, num3)}\")"
   ]
  },
  {
   "cell_type": "markdown",
   "id": "8885b950-e68d-4b11-a1fd-b3fd4f316339",
   "metadata": {},
   "source": [
    "### Q17) Write a code that generates the squares of even numbers from a given list"
   ]
  },
  {
   "cell_type": "code",
   "execution_count": 41,
   "id": "8fffa675-f17c-4885-b820-de5a17ff2369",
   "metadata": {},
   "outputs": [
    {
     "name": "stdout",
     "output_type": "stream",
     "text": [
      "Square of given list: [1, 4, 16, 25, 49, 64, 81]\n"
     ]
    }
   ],
   "source": [
    "lst = [1, 2, 4, 5, 7, 8, 9]\n",
    "square = lambda x: x ** 2  \n",
    "\n",
    "squared_list = list(map(square, lst))\n",
    "print(f\"Square of given list: {squared_list}\")"
   ]
  },
  {
   "cell_type": "markdown",
   "id": "1baceec8-3ff2-47e5-b875-cbdf79ddab4b",
   "metadata": {},
   "source": [
    "### Q18) Write a code that calculates the product of positive numbers from a given list"
   ]
  },
  {
   "cell_type": "code",
   "execution_count": 42,
   "id": "50be514d-7d6d-47c0-8f3e-fec21db01279",
   "metadata": {},
   "outputs": [
    {
     "name": "stdout",
     "output_type": "stream",
     "text": [
      "The product of positive numbers is: 420\n"
     ]
    }
   ],
   "source": [
    "def product_of_positives(numbers):\n",
    "    positive_numbers = list(filter(lambda x: x > 0, numbers))\n",
    "    \n",
    "    from functools import reduce\n",
    "    if positive_numbers:\n",
    "        result = reduce(lambda x, y: x * y, positive_numbers)\n",
    "        return result\n",
    "    else:\n",
    "        return 0  \n",
    "        \n",
    "number_list = [-2, 4, 0, 7, -1, 5, 3, -3]\n",
    "product = product_of_positives(number_list)\n",
    "print(f\"The product of positive numbers is: {product}\")"
   ]
  },
  {
   "cell_type": "markdown",
   "id": "8660b04a-97ff-4796-bcfa-78690af1f89f",
   "metadata": {},
   "source": [
    "### Q19) Write a code that doubles the values of odd numbers from a given list"
   ]
  },
  {
   "cell_type": "code",
   "execution_count": 43,
   "id": "7ffca80b-505e-4e86-b7da-71bfc6c3d752",
   "metadata": {},
   "outputs": [
    {
     "name": "stdout",
     "output_type": "stream",
     "text": [
      "Doubled odd numbers: [6, -2, 10, 14, 0, -8, 4]\n"
     ]
    }
   ],
   "source": [
    "def double_odds(lst):\n",
    "    return [i * 2 if i % 2 != 0 else i for i in lst]\n",
    "    \n",
    "lst = [3, -2, 5, 7, 0, -8, 4]\n",
    "result = double_odds(lst)\n",
    "print(\"Doubled odd numbers:\", result)"
   ]
  },
  {
   "cell_type": "markdown",
   "id": "7a0f42a1-aa6e-432a-a58d-e9c93f3b418c",
   "metadata": {},
   "source": [
    "### Q20) Write a code that calculates the sum of cubes of numbers from a given list"
   ]
  },
  {
   "cell_type": "code",
   "execution_count": 44,
   "id": "4a43ab42-fd3e-495a-873f-40a46b2bfa6b",
   "metadata": {},
   "outputs": [
    {
     "name": "stdout",
     "output_type": "stream",
     "text": [
      "Sum of Cubes of all numbers in list: 39\n"
     ]
    }
   ],
   "source": [
    "def sum_of_cubes(lst):\n",
    "    return sum(i**3 for i in lst)\n",
    "\n",
    "lst = [3, -2, 5, 7, 0, -8, 4]\n",
    "result = sum_of_cubes(lst)  \n",
    "print(\"Sum of Cubes of all numbers in list:\", result)"
   ]
  },
  {
   "cell_type": "markdown",
   "id": "7bfecb22-9d36-4427-b144-c4617aba631a",
   "metadata": {},
   "source": [
    "### Q21) Write a code that filters out prime numbers from a given list"
   ]
  },
  {
   "cell_type": "code",
   "execution_count": 45,
   "id": "eb2bae42-432f-463e-8167-5f1c3c09db14",
   "metadata": {},
   "outputs": [
    {
     "name": "stdout",
     "output_type": "stream",
     "text": [
      "Prime Numbers are : [3, 5, 7, 11]\n"
     ]
    }
   ],
   "source": [
    "def prime_numbers(lst):\n",
    "    def is_prime(n):\n",
    "        if n < 2:  \n",
    "            return False\n",
    "        for i in range(2, int(abs(n) ** 0.5) + 1):  \n",
    "            if n % i == 0:\n",
    "                return False\n",
    "        return True\n",
    "\n",
    "    return [num for num in lst if is_prime(num)]  \n",
    "    \n",
    "lst = [3, -2, 5, 7,11, 0, -8, 4]\n",
    "result = prime_numbers(lst)\n",
    "print(\"Prime Numbers are :\", result)"
   ]
  },
  {
   "cell_type": "markdown",
   "id": "21300c96-67ed-431a-885a-840ec39f4759",
   "metadata": {},
   "source": [
    "### Q22) Write a code that uses a lambda function to calculate the sum of two numbers"
   ]
  },
  {
   "cell_type": "code",
   "execution_count": 46,
   "id": "3cbd819e-c47d-40b5-9d4c-ee88eded7c89",
   "metadata": {},
   "outputs": [
    {
     "name": "stdout",
     "output_type": "stream",
     "text": [
      "Sum of two number using Lambda function : 15\n"
     ]
    }
   ],
   "source": [
    "sum_lambda = lambda a, b: a + b\n",
    "\n",
    "num1 = 5\n",
    "num2 = 10\n",
    "result = sum_lambda(num1, num2)\n",
    "\n",
    "print(\"Sum of two number using Lambda function :\", result)"
   ]
  },
  {
   "cell_type": "markdown",
   "id": "2e3a663e-58c1-471a-b940-881b55d0f125",
   "metadata": {},
   "source": [
    "### Q23) Write a code that uses a lambda function to calculate the square of a given number"
   ]
  },
  {
   "cell_type": "code",
   "execution_count": 47,
   "id": "0fb90cb4-21aa-4380-abd4-a8b06df37309",
   "metadata": {},
   "outputs": [
    {
     "name": "stdout",
     "output_type": "stream",
     "text": [
      "Square of Given Number: 625\n"
     ]
    }
   ],
   "source": [
    "given_number = 25\n",
    "square = lambda x: x ** 2 \n",
    "print(f\"Square of Given Number: {square(given_number)}\")"
   ]
  },
  {
   "cell_type": "markdown",
   "id": "d4c0b727-f853-4295-a012-64ddce33a461",
   "metadata": {},
   "source": [
    "### Q24) Write a code that uses a lambda function to check whether a given number is even or odd"
   ]
  },
  {
   "cell_type": "code",
   "execution_count": 48,
   "id": "2da2239a-cc92-4b49-ba02-72609a39ae67",
   "metadata": {},
   "outputs": [
    {
     "name": "stdout",
     "output_type": "stream",
     "text": [
      "19 is Odd\n",
      "24 is Even\n"
     ]
    }
   ],
   "source": [
    "is_even = lambda x: \"Even\" if x % 2 == 0 else \"Odd\"\n",
    "number = 19\n",
    "print(f\"{number} is {is_even(number)}\")\n",
    "\n",
    "number = 24\n",
    "print(f\"{number} is {is_even(number)}\")"
   ]
  },
  {
   "cell_type": "markdown",
   "id": "c818c9eb-f970-4c74-9754-3323a177bd84",
   "metadata": {},
   "source": [
    "### Q25) Write a code that uses a lambda function to concatenate two strings"
   ]
  },
  {
   "cell_type": "code",
   "execution_count": 49,
   "id": "89b1535a-f590-4391-a8ed-a9d35b8a2dc2",
   "metadata": {},
   "outputs": [
    {
     "name": "stdout",
     "output_type": "stream",
     "text": [
      "Concatenated String is : VishalKumar\n"
     ]
    }
   ],
   "source": [
    "str1=\"Vishal\"\n",
    "str2=\"Kumar\"\n",
    "concatenate_str=lambda x,y:x+y\n",
    "print(f\"Concatenated String is : {concatenate_str(str1,str2)}\")"
   ]
  },
  {
   "cell_type": "markdown",
   "id": "d2d33f31-191c-4a51-b184-75b97ea3e023",
   "metadata": {},
   "source": [
    "### Q26) Write a code that uses a lambda function to find the maximum of three given numbers"
   ]
  },
  {
   "cell_type": "code",
   "execution_count": 50,
   "id": "e1c67191-3de6-4a1f-9295-6c7ecab99c14",
   "metadata": {},
   "outputs": [
    {
     "name": "stdout",
     "output_type": "stream",
     "text": [
      "The maximum of 15, 36, and 2 is : 36\n"
     ]
    }
   ],
   "source": [
    "max_of_three = lambda a, b, c: max(a, b, c)\n",
    "\n",
    "num1, num2, num3 = 15,36,2\n",
    "print(f\"The maximum of {num1}, {num2}, and {num3} is : {max_of_three(num1, num2, num3)}\")"
   ]
  },
  {
   "cell_type": "markdown",
   "id": "3aa464c2-402f-4669-8ecc-b5d3d347722b",
   "metadata": {},
   "source": [
    "### Q27) What is encapsulation in OOP?"
   ]
  },
  {
   "cell_type": "markdown",
   "id": "f8c39fdf-4bd2-4409-96df-77ef30a4155d",
   "metadata": {},
   "source": [
    "#### Ans) Encapsulation in OOP means hiding the internal details of an object and only allowing access through defined methods. It protects data and prevents direct modification."
   ]
  },
  {
   "cell_type": "markdown",
   "id": "a83984d2-7769-466c-a04c-134cf8f7efd3",
   "metadata": {},
   "source": [
    "### Q28) Explain the use of access modifiers in Python classes"
   ]
  }
 ],
 "metadata": {
  "kernelspec": {
   "display_name": "Python 3 (ipykernel)",
   "language": "python",
   "name": "python3"
  },
  "language_info": {
   "codemirror_mode": {
    "name": "ipython",
    "version": 3
   },
   "file_extension": ".py",
   "mimetype": "text/x-python",
   "name": "python",
   "nbconvert_exporter": "python",
   "pygments_lexer": "ipython3",
   "version": "3.12.3"
  }
 },
 "nbformat": 4,
 "nbformat_minor": 5
}
